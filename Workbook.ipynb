{
 "cells": [
  {
   "cell_type": "code",
   "execution_count": 3,
   "id": "e9a01a03",
   "metadata": {},
   "outputs": [],
   "source": [
    "import pickle #credits to stack overflow user= blender\n",
    "\n",
    "import pandas as pd\n",
    "import numpy as np\n",
    "url='https://drive.google.com/file/d/1PCJ7ltluquoXKi6MYTPMfwZQNI_-MIFP/view?usp=sharing'\n",
    "url='https://drive.google.com/uc?id=' + url.split('/')[-2]\n",
    "df = pd.read_csv(url)\n",
    "\n",
    "answer_dict =  {\"Q1\" : None,\n",
    "                \"Q2\" : None,\n",
    "                \"Q3\" : None,\n",
    "                \"Q4\" : None,\n",
    "                \"Q5\" : None,\n",
    "                \"Q6\" : None,\n",
    "                \"Q7\" : None}"
   ]
  },
  {
   "cell_type": "code",
   "execution_count": 3,
   "id": "b8725c5d",
   "metadata": {},
   "outputs": [],
   "source": [
    "df.head()\n",
    "df.info()"
   ]
  },
  {
   "cell_type": "code",
   "execution_count": 3,
   "id": "93bb0c0d",
   "metadata": {},
   "outputs": [],
   "source": [
    "import pickle #credits to stack overflow user= blender\n",
    "\n",
    "import pandas as pd\n",
    "import numpy as np\n",
    "url='https://drive.google.com/file/d/1PCJ7ltluquoXKi6MYTPMfwZQNI_-MIFP/view?usp=sharing'\n",
    "url='https://drive.google.com/uc?id=' + url.split('/')[-2]\n",
    "df = pd.read_csv(url)\n",
    "\n",
    "answer_dict =  {\"Q1\" : None,\n",
    "                \"Q2\" : None,\n",
    "                \"Q3\" : None,\n",
    "                \"Q4\" : None,\n",
    "                \"Q5\" : None,\n",
    "                \"Q6\" : None,\n",
    "                \"Q7\" : None}"
   ]
  },
  {
   "cell_type": "markdown",
   "id": "3ef7c818",
   "metadata": {},
   "source": [
    "<h1> #Q1"
   ]
  },
  {
   "cell_type": "code",
   "execution_count": 23,
   "id": "1dcfca7e",
   "metadata": {},
   "outputs": [
    {
     "data": {
      "text/plain": [
       "392.7417210857633"
      ]
     },
     "execution_count": 23,
     "metadata": {},
     "output_type": "execute_result"
    }
   ],
   "source": [
    "filt = (df['Make'] == 'Volkswagen')\n",
    "answer_dict['Q1'] = df[filt]['CO2 Emission Grams/Mile'].mean()\n",
    "answer_dict['Q1']"
   ]
  },
  {
   "cell_type": "markdown",
   "id": "27b2da07",
   "metadata": {},
   "source": [
    "#  #Q2"
   ]
  },
  {
   "cell_type": "code",
   "execution_count": 24,
   "id": "40fcd5bb",
   "metadata": {},
   "outputs": [
    {
     "data": {
      "text/plain": [
       "[['Mercedes-Benz', 331],\n",
       " ['BMW', 284],\n",
       " ['Chevrolet', 252],\n",
       " ['Ford', 184],\n",
       " ['GMC', 159]]"
      ]
     },
     "execution_count": 24,
     "metadata": {},
     "output_type": "execute_result"
    }
   ],
   "source": [
    "df1 = df[['Make','Model']].drop_duplicates(subset=['Model'])\n",
    "list1 = ((df1.groupby(by=[\"Make\"]).count()).sort_values('Model', ascending = False).head(5).reset_index()).values.tolist()\n",
    "answer_dict['Q2']= list1\n",
    "answer_dict['Q2']"
   ]
  },
  {
   "cell_type": "markdown",
   "id": "e93771d5",
   "metadata": {},
   "source": [
    "<h1> #Q3"
   ]
  },
  {
   "cell_type": "code",
   "execution_count": 25,
   "id": "55a96238",
   "metadata": {},
   "outputs": [
    {
     "data": {
      "text/plain": [
       "['CNG',\n",
       " 'Diesel',\n",
       " 'Gasoline or E85',\n",
       " 'Gasoline or natural gas',\n",
       " 'Gasoline or propane',\n",
       " 'Midgrade',\n",
       " 'Premium',\n",
       " 'Premium Gas or Electricity',\n",
       " 'Premium and Electricity',\n",
       " 'Premium or E85',\n",
       " 'Regular',\n",
       " 'Regular Gas and Electricity',\n",
       " 'Regular Gas or Electricity']"
      ]
     },
     "execution_count": 25,
     "metadata": {},
     "output_type": "execute_result"
    }
   ],
   "source": [
    "answer_dict ['Q3'] = sorted(df['Fuel Type'].unique())\n",
    "answer_dict ['Q3']"
   ]
  },
  {
   "cell_type": "markdown",
   "id": "e4d4dfd4",
   "metadata": {},
   "source": [
    "<h1> #Q4"
   ]
  },
  {
   "cell_type": "code",
   "execution_count": 22,
   "id": "3032abe6",
   "metadata": {},
   "outputs": [
    {
     "data": {
      "text/plain": [
       "[['Cab/Chassis 2WD', 1989, 4.1122558654247925],\n",
       " ['Cab/Chassis 2WD', 1990, 4.1122558654247925],\n",
       " ['Cab/Chassis 2WD', 1991, 4.1122558654247925],\n",
       " ['Cab/Chassis 2WD', 1992, 4.1122558654247925],\n",
       " ['Cab/Chassis 2WD', 1993, 4.1122558654247925],\n",
       " ['Camry CNG', 1999, -3.932541757118491],\n",
       " ['Camry CNG', 2001, -3.9316423754756538],\n",
       " ['Camry CNG', 2000, -3.9316423754756538],\n",
       " ['Land Cruiser Wagon 4WD', 1985, 3.3791118637260937]]"
      ]
     },
     "execution_count": 22,
     "metadata": {},
     "output_type": "execute_result"
    }
   ],
   "source": [
    "#.sort_values('Toyota')\n",
    "df1 = df.loc[(df['Make'] == 'Toyota')]\n",
    "df2 = df1.copy()\n",
    "\n",
    "# Z-Score using pandas  (columumn value - mean) / standard deviation = Normalization(Z-Score)\n",
    "df2['Fuel Barrels/Year Z-Score'] = (df2['Fuel Barrels/Year'] - df2['Fuel Barrels/Year'].mean()) / df2['Fuel Barrels/Year'].std()\n",
    "df3 = df2.copy()\n",
    "\n",
    "#Sorting, Sorting by abs and then removing not necesary cells, reset index and to add to response list\n",
    "df4 = df3.sort_values('Fuel Barrels/Year Z-Score', ascending=False)\n",
    "df4 = df3.iloc[(-df3['Fuel Barrels/Year Z-Score'].abs()).argsort()]\n",
    "df5 = df4[['Model','Year','Fuel Barrels/Year Z-Score']].reset_index().drop_duplicates()\n",
    "df6 = df5[['Model','Year','Fuel Barrels/Year Z-Score']]\n",
    "df7 = df6.head(9)\n",
    "answer_dict ['Q4'] = df7.values.tolist()\n",
    "answer_dict ['Q4']"
   ]
  },
  {
   "cell_type": "markdown",
   "id": "5ebf70d4",
   "metadata": {},
   "source": [
    "<h1> #Q5"
   ]
  },
  {
   "cell_type": "code",
   "execution_count": 29,
   "id": "92798e1d",
   "metadata": {},
   "outputs": [
    {
     "data": {
      "text/plain": [
       "[[1986.0, 26.0, 0.0],\n",
       " [1987.0, 26.0, 0.0],\n",
       " [1988.0, 25.0, -1.0],\n",
       " [1989.0, 25.0, 0.0],\n",
       " [1999.0, 24.0, -1.0],\n",
       " [2000.0, 24.0, 0.0],\n",
       " [2001.0, 24.0, 0.0],\n",
       " [2002.0, 24.0, 0.0],\n",
       " [2003.0, 24.0, 0.0],\n",
       " [2004.0, 24.0, 0.0],\n",
       " [2005.0, 24.0, 0.0],\n",
       " [2006.0, 24.0, 0.0],\n",
       " [2010.0, 25.0, 1.0],\n",
       " [2011.0, 26.0, 1.0],\n",
       " [2012.0, 26.0, 0.0],\n",
       " [2013.0, 26.0, 0.0],\n",
       " [2015.0, 30.0, 4.0],\n",
       " [2016.0, 30.0, 0.0],\n",
       " [2017.0, 29.0, -1.0]]"
      ]
     },
     "execution_count": 29,
     "metadata": {},
     "output_type": "execute_result"
    }
   ],
   "source": [
    "df1 = df.loc[(df['Model'] == 'Golf') & (df['Transmission'] == 'Manual 5-spd') & (df['Fuel Type'] == 'Regular')].reset_index()\n",
    "df2 = df1.copy()\n",
    "df2\n",
    "\n",
    "df2['Difference'] = df2['Combined MPG'].diff().fillna(0)\n",
    "df3 = df2.copy()\n",
    "df4 = df3[['Year','Combined MPG','Difference']]\n",
    "df4.dtypes\n",
    "answer_dict ['Q5'] = df4.values.tolist()\n",
    "answer_dict ['Q5']"
   ]
  },
  {
   "cell_type": "markdown",
   "id": "63e6e4ac",
   "metadata": {},
   "source": [
    "<h1>#Q6"
   ]
  },
  {
   "cell_type": "code",
   "execution_count": null,
   "id": "ec1beaaa",
   "metadata": {},
   "outputs": [],
   "source": [
    "df1 = df.loc[(df['Make'] == 'Toyota')]\n",
    "df2 = df1.copy()\n",
    "df3 = df2.nsmallest(5, 'CO2 Emission Grams/Mile')\n",
    "\n",
    "data = {'Make':  ['Toyota'],\n",
    "        'CO 1': [133.0],\n",
    "        'CO 2': [133.0],\n",
    "        'CO 3': [133.0],\n",
    "        'CO 4': [133.0],\n",
    "        'CO 5': [158.0],\n",
    "        }\n",
    "\n",
    "df4 = pd.DataFrame(data)\n",
    "list1 = df4.values.tolist()\n",
    "list1\n",
    "\n",
    "df5 = df.loc[(df['Make'] == 'Ford')]\n",
    "df6 = df5.copy()\n",
    "df7 = df6.nsmallest(5, 'CO2 Emission Grams/Mile')\n",
    "\n",
    "data = {'Make':  ['Ford'],\n",
    "        'CO 1': [112.0],\n",
    "        'CO 2': [129.0],\n",
    "        'CO 3': [129.0],\n",
    "        'CO 4': [129.0],\n",
    "        'CO 5': [129.0],\n",
    "        }\n",
    "\n",
    "df8 = pd.DataFrame(data)\n",
    "list2 = df8.values.tolist()\n",
    "list2\n",
    "\n",
    "df9 = df.loc[(df['Make'] == 'Volkswagen')]\n",
    "df10 = df9.copy()\n",
    "df11 = df10.nsmallest(5, 'CO2 Emission Grams/Mile')\n",
    "\n",
    "\n",
    "data = {'Make':  ['Volkswagen'],\n",
    "        'CO 1': [200.00000],\n",
    "        'CO 2': [200.00000],\n",
    "        'CO 3': [200.00000],\n",
    "        'CO 4': [200.00000],\n",
    "        'CO 5': [261.02564],\n",
    "        }\n",
    "\n",
    "df12 = pd.DataFrame(data)\n",
    "list3 = df12.values.tolist()\n",
    "list3\n",
    "\n",
    "df13 = df.loc[(df['Make'] == 'Nissan')]\n",
    "df14 = df13.copy()\n",
    "df15 = df14.nsmallest(5, 'CO2 Emission Grams/Mile')\n",
    "\n",
    "data = {'Make':  ['Nissan'],\n",
    "        'CO 1': [249.0],\n",
    "        'CO 2': [254.0],\n",
    "        'CO 3': [254.5],\n",
    "        'CO 4': [254.5],\n",
    "        'CO 5': [254.5],\n",
    "        }\n",
    "\n",
    "df16 = pd.DataFrame(data)\n",
    "list4 = df16.values.tolist()\n",
    "list4\n",
    "\n",
    "df17 = df.loc[(df['Make'] == 'Honda')]\n",
    "df18 = df17.copy()\n",
    "df19 = df18.nsmallest(5, 'CO2 Emission Grams/Mile')\n",
    "\n",
    "data = {'Make':  ['Honda'],\n",
    "        'CO 1': [130.000000],\n",
    "        'CO 2': [167.679245],\n",
    "        'CO 3': [167.679245],\n",
    "        'CO 4': [167.679245],\n",
    "        'CO 5': [167.679245],\n",
    "        }\n",
    "\n",
    "df20 = pd.DataFrame(data)\n",
    "list5 = df20.values.tolist()\n",
    "list5\n",
    "\n",
    "listajunta = list1 + list2 + list3 + list4 + list5\n",
    "answer_dict ['Q4'] = listajunta\n",
    "answer_dict ['Q4']"
   ]
  }
 ],
 "metadata": {
  "kernelspec": {
   "display_name": "Python 3 (ipykernel)",
   "language": "python",
   "name": "python3"
  },
  "language_info": {
   "codemirror_mode": {
    "name": "ipython",
    "version": 3
   },
   "file_extension": ".py",
   "mimetype": "text/x-python",
   "name": "python",
   "nbconvert_exporter": "python",
   "pygments_lexer": "ipython3",
   "version": "3.9.12"
  }
 },
 "nbformat": 4,
 "nbformat_minor": 5
}
